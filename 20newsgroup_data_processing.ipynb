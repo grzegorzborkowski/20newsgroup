{
 "cells": [
  {
   "cell_type": "code",
   "execution_count": 91,
   "metadata": {},
   "outputs": [],
   "source": [
    "from sklearn.datasets import fetch_20newsgroups\n",
    "from sklearn.feature_extraction.text import CountVectorizer\n",
    "import csv\n",
    "from scipy import sparse\n",
    "import numpy as np\n",
    "import sklearn.manifold\n",
    "import sklearn.datasets"
   ]
  },
  {
   "cell_type": "code",
   "execution_count": 4,
   "metadata": {},
   "outputs": [
    {
     "name": "stderr",
     "output_type": "stream",
     "text": [
      "Downloading 20news dataset. This may take a few minutes.\n",
      "Downloading dataset from https://ndownloader.figshare.com/files/5975967 (14 MB)\n"
     ]
    }
   ],
   "source": [
    "twenty_train = fetch_20newsgroups(shuffle=True, random_state=42)"
   ]
  },
  {
   "cell_type": "code",
   "execution_count": 13,
   "metadata": {},
   "outputs": [
    {
     "name": "stdout",
     "output_type": "stream",
     "text": [
      "From: guykuo@carson.u.washington.edu (Guy Kuo)\n",
      "Subject: SI Clock Poll - Final Call\n",
      "Summary: Final call for SI clock reports\n",
      "Keywords: SI,acceleration,clock,upgrade\n",
      "Article-I.D.: shelley.1qvfo9INNc3s\n",
      "Organization: University of Washington\n",
      "Lines: 11\n",
      "NNTP-Posting-Host: carson.u.washington.edu\n",
      "\n",
      "A fair number of brave souls who upgraded their SI clock oscillator have\n",
      "shared their experiences for this poll. Please send a brief message detailing\n",
      "your experiences with the procedure. Top speed attained, CPU rated speed,\n",
      "add on cards and adapters, heat sinks, hour of usage per day, floppy disk\n",
      "functionality with 800 and 1.4 m floppies are especially requested.\n",
      "\n",
      "I will be summarizing in the next two days, so please add to the network\n",
      "knowledge base if you have done the clock upgrade and haven't answered this\n",
      "poll. Thanks.\n",
      "\n",
      "Guy Kuo <guykuo@u.washington.edu>\n",
      "\n",
      "comp.graphics\n"
     ]
    }
   ],
   "source": [
    "print (twenty_train.data[1])\n",
    "print (twenty_train.target_names[1])"
   ]
  },
  {
   "cell_type": "code",
   "execution_count": 22,
   "metadata": {},
   "outputs": [],
   "source": [
    "count_vect = CountVectorizer()\n",
    "X_train_counts = count_vect.fit_transform(twenty_train.data)\n",
    "vocab = count_vect.vocabulary_ \n",
    "\n"
   ]
  },
  {
   "cell_type": "code",
   "execution_count": 63,
   "metadata": {},
   "outputs": [
    {
     "name": "stdout",
     "output_type": "stream",
     "text": [
      "<class 'dict'>\n"
     ]
    }
   ],
   "source": [
    "print (type(vocab))\n"
   ]
  },
  {
   "cell_type": "code",
   "execution_count": 68,
   "metadata": {},
   "outputs": [
    {
     "name": "stdout",
     "output_type": "stream",
     "text": [
      "(11314, 130107)\n"
     ]
    }
   ],
   "source": [
    "print (X_train_counts.get_shape())"
   ]
  },
  {
   "cell_type": "code",
   "execution_count": null,
   "metadata": {
    "collapsed": true
   },
   "outputs": [],
   "source": [
    "sparse.save_npz('data_sparse.npz', X_train_counts)\n"
   ]
  },
  {
   "cell_type": "code",
   "execution_count": 89,
   "metadata": {},
   "outputs": [],
   "source": [
    "def save_sparse_matrix(m,filename):\n",
    "    thefile = open(filename, 'w')\n",
    "    nonZeros = np.array(m.nonzero())\n",
    "    for entry in range(nonZeros.shape[1]):\n",
    "        thefile.write(\"%s,%s,%s\\n\" % (nonZeros[0, entry], nonZeros[1, entry], m[nonZeros[0, entry], nonZeros[1, entry]]))"
   ]
  },
  {
   "cell_type": "code",
   "execution_count": 90,
   "metadata": {
    "collapsed": true
   },
   "outputs": [],
   "source": [
    "save_sparse_matrix(X_train_counts, \"matrix.txt\")"
   ]
  },
  {
   "cell_type": "code",
   "execution_count": 29,
   "metadata": {},
   "outputs": [],
   "source": [
    "with open('dictionary_vocabulary.csv', 'w') as f:  \n",
    "    w = csv.writer(f)\n",
    "    w.writerows(vocab.items())"
   ]
  },
  {
   "cell_type": "code",
   "execution_count": 30,
   "metadata": {
    "collapsed": true
   },
   "outputs": [],
   "source": [
    "with open('counts.csv', 'w') as f:\n",
    "    w = csv.writer(f)\n",
    "    w.writerows(X_train_counts)"
   ]
  },
  {
   "cell_type": "code",
   "execution_count": 101,
   "metadata": {},
   "outputs": [
    {
     "name": "stdout",
     "output_type": "stream",
     "text": [
      "Computing t-SNE embedding\n",
      "[[  2.23272014  33.12413406 -10.51000118]\n",
      " [ 19.80122375 -23.84308434   3.22399712]\n",
      " [ 14.57578564 -12.8502779   -4.59867334]\n",
      " ..., \n",
      " [  9.62320805  -9.15557194   3.13828921]\n",
      " [-24.75118637  25.6773262    3.5943985 ]\n",
      " [  1.26819193  -4.88418388  -1.78618717]]\n"
     ]
    },
    {
     "ename": "NameError",
     "evalue": "name 'Y' is not defined",
     "output_type": "error",
     "traceback": [
      "\u001b[0;31m---------------------------------------------------------------------------\u001b[0m",
      "\u001b[0;31mNameError\u001b[0m                                 Traceback (most recent call last)",
      "\u001b[0;32m<ipython-input-101-9c040628fdcc>\u001b[0m in \u001b[0;36m<module>\u001b[0;34m()\u001b[0m\n\u001b[1;32m     12\u001b[0m \u001b[0;34m\u001b[0m\u001b[0m\n\u001b[1;32m     13\u001b[0m \u001b[0mprint\u001b[0m\u001b[0;34m(\u001b[0m\u001b[0mX_tsne\u001b[0m\u001b[0;34m)\u001b[0m\u001b[0;34m\u001b[0m\u001b[0m\n\u001b[0;32m---> 14\u001b[0;31m \u001b[0mprint\u001b[0m \u001b[0;34m(\u001b[0m\u001b[0mY\u001b[0m\u001b[0;34m)\u001b[0m\u001b[0;34m\u001b[0m\u001b[0m\n\u001b[0m",
      "\u001b[0;31mNameError\u001b[0m: name 'Y' is not defined"
     ]
    }
   ],
   "source": [
    "digits = sklearn.datasets.load_digits()\n",
    "orig_X = digits.data\n",
    "orig_Y = digits.target\n",
    "\n",
    "every_nth_element = 1 #defult 1 == every element\n",
    "X = orig_X[0::every_nth_element]\n",
    "y = orig_Y[0::every_nth_element]\n",
    "\n",
    "print(\"Computing t-SNE embedding\")\n",
    "tsne = sklearn.manifold.TSNE(n_components=3, init='pca', random_state=0)\n",
    "X_tsne = tsne.fit_transform(X)\n",
    "\n",
    "print(X_tsne)\n",
    "\n"
   ]
  },
  {
   "cell_type": "code",
   "execution_count": 111,
   "metadata": {},
   "outputs": [
    {
     "name": "stdout",
     "output_type": "stream",
     "text": [
      "(1797, 3)\n",
      "(1797, 1)\n"
     ]
    },
    {
     "data": {
      "text/plain": [
       "array([[  2.23272014,  33.12413406, -10.51000118,   0.        ],\n",
       "       [ 19.80122375, -23.84308434,   3.22399712,   1.        ],\n",
       "       [ 14.57578564, -12.8502779 ,  -4.59867334,   2.        ],\n",
       "       ..., \n",
       "       [  9.62320805,  -9.15557194,   3.13828921,   8.        ],\n",
       "       [-24.75118637,  25.6773262 ,   3.5943985 ,   9.        ],\n",
       "       [  1.26819193,  -4.88418388,  -1.78618717,   8.        ]])"
      ]
     },
     "execution_count": 111,
     "metadata": {},
     "output_type": "execute_result"
    }
   ],
   "source": [
    "\n",
    "print (X_tsne.shape)\n",
    "print (y_reshaped.shape)\n",
    "y_reshaped = y.reshape(1797, 1)\n",
    "\n",
    "merged_X_Y = np.concatenate((X_tsne, y_reshaped), axis=1)"
   ]
  },
  {
   "cell_type": "code",
   "execution_count": 100,
   "metadata": {},
   "outputs": [],
   "source": [
    "X_tsne.tolist()\n",
    "numpy.savetxt(fname='tsne.csv', X=X_tsne)\n"
   ]
  },
  {
   "cell_type": "code",
   "execution_count": 95,
   "metadata": {},
   "outputs": [],
   "source": [
    "with open('tsne.csv', 'w') as f:\n",
    "    w = csv.writer(f)\n",
    "    w.writerow(X_tsne)"
   ]
  }
 ],
 "metadata": {
  "kernelspec": {
   "display_name": "Python 3",
   "language": "python",
   "name": "python3"
  },
  "language_info": {
   "codemirror_mode": {
    "name": "ipython",
    "version": 3
   },
   "file_extension": ".py",
   "mimetype": "text/x-python",
   "name": "python",
   "nbconvert_exporter": "python",
   "pygments_lexer": "ipython3",
   "version": "3.6.1"
  }
 },
 "nbformat": 4,
 "nbformat_minor": 2
}
